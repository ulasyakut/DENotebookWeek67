{
 "cells": [
  {
   "cell_type": "code",
   "execution_count": 3,
   "metadata": {},
   "outputs": [],
   "source": [
    "import json_helper"
   ]
  },
  {
   "cell_type": "code",
   "execution_count": 5,
   "metadata": {},
   "outputs": [
    {
     "data": {
      "text/html": [
       "<div>\n",
       "<style scoped>\n",
       "    .dataframe tbody tr th:only-of-type {\n",
       "        vertical-align: middle;\n",
       "    }\n",
       "\n",
       "    .dataframe tbody tr th {\n",
       "        vertical-align: top;\n",
       "    }\n",
       "\n",
       "    .dataframe thead th {\n",
       "        text-align: right;\n",
       "    }\n",
       "</style>\n",
       "<table border=\"1\" class=\"dataframe\">\n",
       "  <thead>\n",
       "    <tr style=\"text-align: right;\">\n",
       "      <th></th>\n",
       "      <th>date</th>\n",
       "      <th>datatype</th>\n",
       "      <th>station</th>\n",
       "      <th>attributes</th>\n",
       "      <th>value</th>\n",
       "      <th>source</th>\n",
       "    </tr>\n",
       "  </thead>\n",
       "  <tbody>\n",
       "    <tr>\n",
       "      <th>0</th>\n",
       "      <td>2018-01-01T00:00:00</td>\n",
       "      <td>SNWD</td>\n",
       "      <td>GHCND:US1DENC0001</td>\n",
       "      <td>T,,N,0700</td>\n",
       "      <td>0</td>\n",
       "      <td>daily_summaries_FIPS10003_jan_2018_0.json</td>\n",
       "    </tr>\n",
       "    <tr>\n",
       "      <th>1</th>\n",
       "      <td>2018-01-01T00:00:00</td>\n",
       "      <td>PRCP</td>\n",
       "      <td>GHCND:US1DENC0002</td>\n",
       "      <td>,,N,0700</td>\n",
       "      <td>0</td>\n",
       "      <td>daily_summaries_FIPS10003_jan_2018_0.json</td>\n",
       "    </tr>\n",
       "    <tr>\n",
       "      <th>2</th>\n",
       "      <td>2018-01-01T00:00:00</td>\n",
       "      <td>SNOW</td>\n",
       "      <td>GHCND:US1DENC0002</td>\n",
       "      <td>,,N,0700</td>\n",
       "      <td>0</td>\n",
       "      <td>daily_summaries_FIPS10003_jan_2018_0.json</td>\n",
       "    </tr>\n",
       "    <tr>\n",
       "      <th>3</th>\n",
       "      <td>2018-01-01T00:00:00</td>\n",
       "      <td>SNWD</td>\n",
       "      <td>GHCND:US1DENC0002</td>\n",
       "      <td>T,,N,0700</td>\n",
       "      <td>0</td>\n",
       "      <td>daily_summaries_FIPS10003_jan_2018_0.json</td>\n",
       "    </tr>\n",
       "    <tr>\n",
       "      <th>4</th>\n",
       "      <td>2018-01-01T00:00:00</td>\n",
       "      <td>WESD</td>\n",
       "      <td>GHCND:US1DENC0002</td>\n",
       "      <td>T,,N,0700</td>\n",
       "      <td>0</td>\n",
       "      <td>daily_summaries_FIPS10003_jan_2018_0.json</td>\n",
       "    </tr>\n",
       "    <tr>\n",
       "      <th>...</th>\n",
       "      <td>...</td>\n",
       "      <td>...</td>\n",
       "      <td>...</td>\n",
       "      <td>...</td>\n",
       "      <td>...</td>\n",
       "      <td>...</td>\n",
       "    </tr>\n",
       "    <tr>\n",
       "      <th>995</th>\n",
       "      <td>2018-01-22T00:00:00</td>\n",
       "      <td>WDF5</td>\n",
       "      <td>GHCND:USW00013781</td>\n",
       "      <td>,,W,</td>\n",
       "      <td>160</td>\n",
       "      <td>daily_summaries_FIPS10003_jan_2018_0.json</td>\n",
       "    </tr>\n",
       "    <tr>\n",
       "      <th>996</th>\n",
       "      <td>2018-01-22T00:00:00</td>\n",
       "      <td>WSF2</td>\n",
       "      <td>GHCND:USW00013781</td>\n",
       "      <td>,,W,</td>\n",
       "      <td>54</td>\n",
       "      <td>daily_summaries_FIPS10003_jan_2018_0.json</td>\n",
       "    </tr>\n",
       "    <tr>\n",
       "      <th>997</th>\n",
       "      <td>2018-01-22T00:00:00</td>\n",
       "      <td>WSF5</td>\n",
       "      <td>GHCND:USW00013781</td>\n",
       "      <td>,,W,</td>\n",
       "      <td>63</td>\n",
       "      <td>daily_summaries_FIPS10003_jan_2018_0.json</td>\n",
       "    </tr>\n",
       "    <tr>\n",
       "      <th>998</th>\n",
       "      <td>2018-01-23T00:00:00</td>\n",
       "      <td>PRCP</td>\n",
       "      <td>GHCND:US1DENC0001</td>\n",
       "      <td>,,N,0700</td>\n",
       "      <td>76</td>\n",
       "      <td>daily_summaries_FIPS10003_jan_2018_0.json</td>\n",
       "    </tr>\n",
       "    <tr>\n",
       "      <th>999</th>\n",
       "      <td>2018-01-23T00:00:00</td>\n",
       "      <td>PRCP</td>\n",
       "      <td>GHCND:US1DENC0002</td>\n",
       "      <td>,,N,0700</td>\n",
       "      <td>58</td>\n",
       "      <td>daily_summaries_FIPS10003_jan_2018_0.json</td>\n",
       "    </tr>\n",
       "  </tbody>\n",
       "</table>\n",
       "<p>1000 rows × 6 columns</p>\n",
       "</div>"
      ],
      "text/plain": [
       "                    date datatype            station attributes  value  \\\n",
       "0    2018-01-01T00:00:00     SNWD  GHCND:US1DENC0001  T,,N,0700      0   \n",
       "1    2018-01-01T00:00:00     PRCP  GHCND:US1DENC0002   ,,N,0700      0   \n",
       "2    2018-01-01T00:00:00     SNOW  GHCND:US1DENC0002   ,,N,0700      0   \n",
       "3    2018-01-01T00:00:00     SNWD  GHCND:US1DENC0002  T,,N,0700      0   \n",
       "4    2018-01-01T00:00:00     WESD  GHCND:US1DENC0002  T,,N,0700      0   \n",
       "..                   ...      ...                ...        ...    ...   \n",
       "995  2018-01-22T00:00:00     WDF5  GHCND:USW00013781       ,,W,    160   \n",
       "996  2018-01-22T00:00:00     WSF2  GHCND:USW00013781       ,,W,     54   \n",
       "997  2018-01-22T00:00:00     WSF5  GHCND:USW00013781       ,,W,     63   \n",
       "998  2018-01-23T00:00:00     PRCP  GHCND:US1DENC0001   ,,N,0700     76   \n",
       "999  2018-01-23T00:00:00     PRCP  GHCND:US1DENC0002   ,,N,0700     58   \n",
       "\n",
       "                                        source  \n",
       "0    daily_summaries_FIPS10003_jan_2018_0.json  \n",
       "1    daily_summaries_FIPS10003_jan_2018_0.json  \n",
       "2    daily_summaries_FIPS10003_jan_2018_0.json  \n",
       "3    daily_summaries_FIPS10003_jan_2018_0.json  \n",
       "4    daily_summaries_FIPS10003_jan_2018_0.json  \n",
       "..                                         ...  \n",
       "995  daily_summaries_FIPS10003_jan_2018_0.json  \n",
       "996  daily_summaries_FIPS10003_jan_2018_0.json  \n",
       "997  daily_summaries_FIPS10003_jan_2018_0.json  \n",
       "998  daily_summaries_FIPS10003_jan_2018_0.json  \n",
       "999  daily_summaries_FIPS10003_jan_2018_0.json  \n",
       "\n",
       "[1000 rows x 6 columns]"
      ]
     },
     "execution_count": 5,
     "metadata": {},
     "output_type": "execute_result"
    }
   ],
   "source": [
    "# use json_helper to load all json objects into a dataframe called df_daily_summaries\n",
    "json_helper.read_all_json_files('/Users/uyakut/Desktop/data_exercises/DENotebookWeek67/NOAADailySummaries/data/daily_summaries')"
   ]
  },
  {
   "cell_type": "code",
   "execution_count": null,
   "metadata": {},
   "outputs": [],
   "source": [
    "# display a summary of df_daily_summaries"
   ]
  },
  {
   "cell_type": "markdown",
   "metadata": {},
   "source": [
    "How many stations are there in total for FIPS10003"
   ]
  },
  {
   "cell_type": "code",
   "execution_count": null,
   "metadata": {},
   "outputs": [],
   "source": [
    "# "
   ]
  },
  {
   "cell_type": "markdown",
   "metadata": {},
   "source": [
    "Create a DataFrame called temps_max that only contains the entries from df_daily_summaries where the datatype column is equal to TMAX. This DataFrame should only retain the date column and the value column."
   ]
  },
  {
   "cell_type": "code",
   "execution_count": null,
   "metadata": {},
   "outputs": [],
   "source": [
    "# "
   ]
  },
  {
   "cell_type": "code",
   "execution_count": null,
   "metadata": {},
   "outputs": [],
   "source": [
    "temps_max"
   ]
  },
  {
   "cell_type": "markdown",
   "metadata": {},
   "source": [
    "How many entries are there in the temps_max DataFrame? What are the mean, min, and max values?"
   ]
  },
  {
   "cell_type": "code",
   "execution_count": null,
   "metadata": {},
   "outputs": [],
   "source": [
    "# "
   ]
  },
  {
   "cell_type": "markdown",
   "metadata": {},
   "source": [
    "Let's graph this DataFrame so we can get a visual representation for this information."
   ]
  },
  {
   "cell_type": "code",
   "execution_count": null,
   "metadata": {},
   "outputs": [],
   "source": [
    "import pandas as pd\n",
    "import matplotlib\n",
    "import matplotlib.pyplot as plt"
   ]
  },
  {
   "cell_type": "code",
   "execution_count": null,
   "metadata": {},
   "outputs": [],
   "source": [
    "%matplotlib inline"
   ]
  },
  {
   "cell_type": "code",
   "execution_count": null,
   "metadata": {},
   "outputs": [],
   "source": [
    "x = temps_max['date'].str[8:10]\n",
    "y = temps_max['value'] / 10"
   ]
  },
  {
   "cell_type": "code",
   "execution_count": null,
   "metadata": {},
   "outputs": [],
   "source": [
    "fig, ax = plt.subplots()\n",
    "fig.set_size_inches(20, 10)\n",
    "ax.plot(x, y)\n",
    "ax.grid()\n",
    "ax.set(xlabel='day of month', ylabel='temperature in celsius', title='Max Temperatues Jan 2018')"
   ]
  },
  {
   "cell_type": "markdown",
   "metadata": {},
   "source": [
    "Create a DataFrame called temps_min that only contains the entries from df_daily_summaries where the datatype column is equal to TMIN. This DataFrame should only retain the date column and the value column."
   ]
  },
  {
   "cell_type": "code",
   "execution_count": null,
   "metadata": {},
   "outputs": [],
   "source": [
    "# "
   ]
  },
  {
   "cell_type": "code",
   "execution_count": null,
   "metadata": {},
   "outputs": [],
   "source": [
    "temps_min"
   ]
  },
  {
   "cell_type": "markdown",
   "metadata": {},
   "source": [
    "How many entries are there in the temps_min DataFrame? What are the mean, min, and max values?"
   ]
  },
  {
   "cell_type": "code",
   "execution_count": null,
   "metadata": {},
   "outputs": [],
   "source": [
    "# "
   ]
  },
  {
   "cell_type": "markdown",
   "metadata": {},
   "source": [
    "Graph the temps_min DataFrame"
   ]
  },
  {
   "cell_type": "code",
   "execution_count": null,
   "metadata": {},
   "outputs": [],
   "source": [
    "# "
   ]
  },
  {
   "cell_type": "markdown",
   "metadata": {},
   "source": [
    "We can also plot both of these lines in the same graph."
   ]
  },
  {
   "cell_type": "code",
   "execution_count": null,
   "metadata": {},
   "outputs": [],
   "source": [
    "fig, ax = plt.subplots()\n",
    "fig.set_size_inches(20, 10)\n",
    "ax.plot(x, temps_max['value'] / 10, color='red')\n",
    "ax.plot(x, temps_min['value'] / 10, color='blue')\n",
    "ax.grid()\n",
    "ax.set(xlabel='day of month', ylabel='temperature in celsius', title='Min & Max Temperatues Jan 2018')"
   ]
  }
 ],
 "metadata": {
  "kernelspec": {
   "display_name": "Python 3 (ipykernel)",
   "language": "python",
   "name": "python3"
  },
  "language_info": {
   "codemirror_mode": {
    "name": "ipython",
    "version": 3
   },
   "file_extension": ".py",
   "mimetype": "text/x-python",
   "name": "python",
   "nbconvert_exporter": "python",
   "pygments_lexer": "ipython3",
   "version": "3.12.5"
  }
 },
 "nbformat": 4,
 "nbformat_minor": 4
}
