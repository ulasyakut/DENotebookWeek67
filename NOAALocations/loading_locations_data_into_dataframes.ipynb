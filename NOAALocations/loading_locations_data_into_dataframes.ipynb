{
 "cells": [
  {
   "cell_type": "code",
   "execution_count": 83,
   "metadata": {},
   "outputs": [],
   "source": [
    "import pandas as pd\n",
    "import os\n",
    "import json"
   ]
  },
  {
   "cell_type": "markdown",
   "metadata": {},
   "source": [
    "## Read a single JSON"
   ]
  },
  {
   "cell_type": "markdown",
   "metadata": {},
   "source": [
    "Define a function called read_json. Given a string representing a file path to a json file, this function should open said file and convert its contens into a json object."
   ]
  },
  {
   "cell_type": "code",
   "execution_count": 86,
   "metadata": {},
   "outputs": [],
   "source": [
    "# implement me\n",
    "def read_json(file_path):\n",
    "    with open(file_path, 'r') as file:\n",
    "        data = json.load(file)\n",
    "    return data"
   ]
  },
  {
   "cell_type": "markdown",
   "metadata": {},
   "source": [
    "Use the read_json function defined above to read the contents of one of the locations_4.json file acquired in the Data Acquisition Lab."
   ]
  },
  {
   "cell_type": "code",
   "execution_count": 87,
   "metadata": {},
   "outputs": [],
   "source": [
    "#file_path = os.path.join('./', 'data', 'locations', 'locations_4.json')\n",
    "json_contents = read_json('data/locations/locations_4.json')"
   ]
  },
  {
   "cell_type": "markdown",
   "metadata": {},
   "source": [
    "Display the value of the json_contents variable defined above."
   ]
  },
  {
   "cell_type": "code",
   "execution_count": 89,
   "metadata": {},
   "outputs": [
    {
     "data": {
      "text/plain": [
       "list"
      ]
     },
     "execution_count": 89,
     "metadata": {},
     "output_type": "execute_result"
    }
   ],
   "source": [
    "type(json_contents['results'])"
   ]
  },
  {
   "cell_type": "markdown",
   "metadata": {},
   "source": [
    "## Convert JSON Into a DataFrame"
   ]
  },
  {
   "cell_type": "markdown",
   "metadata": {},
   "source": [
    "Using the json_contents variable, create a Pandas dataframe."
   ]
  },
  {
   "cell_type": "code",
   "execution_count": 91,
   "metadata": {},
   "outputs": [],
   "source": [
    "# Create DataFrame here.\n",
    "df = pd.DataFrame(json_contents['results'])"
   ]
  },
  {
   "cell_type": "markdown",
   "metadata": {},
   "source": [
    "Display the contents of the DataFrame. "
   ]
  },
  {
   "cell_type": "code",
   "execution_count": 92,
   "metadata": {},
   "outputs": [
    {
     "data": {
      "text/html": [
       "<div>\n",
       "<style scoped>\n",
       "    .dataframe tbody tr th:only-of-type {\n",
       "        vertical-align: middle;\n",
       "    }\n",
       "\n",
       "    .dataframe tbody tr th {\n",
       "        vertical-align: top;\n",
       "    }\n",
       "\n",
       "    .dataframe thead th {\n",
       "        text-align: right;\n",
       "    }\n",
       "</style>\n",
       "<table border=\"1\" class=\"dataframe\">\n",
       "  <thead>\n",
       "    <tr style=\"text-align: right;\">\n",
       "      <th></th>\n",
       "      <th>mindate</th>\n",
       "      <th>maxdate</th>\n",
       "      <th>name</th>\n",
       "      <th>datacoverage</th>\n",
       "      <th>id</th>\n",
       "    </tr>\n",
       "  </thead>\n",
       "  <tbody>\n",
       "    <tr>\n",
       "      <th>0</th>\n",
       "      <td>1893-01-01</td>\n",
       "      <td>2024-12-05</td>\n",
       "      <td>Lee County, IL</td>\n",
       "      <td>1.0</td>\n",
       "      <td>FIPS:17103</td>\n",
       "    </tr>\n",
       "    <tr>\n",
       "      <th>1</th>\n",
       "      <td>1896-05-01</td>\n",
       "      <td>2024-12-05</td>\n",
       "      <td>Livingston County, IL</td>\n",
       "      <td>1.0</td>\n",
       "      <td>FIPS:17105</td>\n",
       "    </tr>\n",
       "    <tr>\n",
       "      <th>2</th>\n",
       "      <td>1906-01-01</td>\n",
       "      <td>2024-12-05</td>\n",
       "      <td>Logan County, IL</td>\n",
       "      <td>1.0</td>\n",
       "      <td>FIPS:17107</td>\n",
       "    </tr>\n",
       "    <tr>\n",
       "      <th>3</th>\n",
       "      <td>1902-08-01</td>\n",
       "      <td>2024-12-05</td>\n",
       "      <td>McDonough County, IL</td>\n",
       "      <td>1.0</td>\n",
       "      <td>FIPS:17109</td>\n",
       "    </tr>\n",
       "    <tr>\n",
       "      <th>4</th>\n",
       "      <td>1893-01-01</td>\n",
       "      <td>2024-12-05</td>\n",
       "      <td>McHenry County, IL</td>\n",
       "      <td>1.0</td>\n",
       "      <td>FIPS:17111</td>\n",
       "    </tr>\n",
       "  </tbody>\n",
       "</table>\n",
       "</div>"
      ],
      "text/plain": [
       "      mindate     maxdate                   name  datacoverage          id\n",
       "0  1893-01-01  2024-12-05         Lee County, IL           1.0  FIPS:17103\n",
       "1  1896-05-01  2024-12-05  Livingston County, IL           1.0  FIPS:17105\n",
       "2  1906-01-01  2024-12-05       Logan County, IL           1.0  FIPS:17107\n",
       "3  1902-08-01  2024-12-05   McDonough County, IL           1.0  FIPS:17109\n",
       "4  1893-01-01  2024-12-05     McHenry County, IL           1.0  FIPS:17111"
      ]
     },
     "execution_count": 92,
     "metadata": {},
     "output_type": "execute_result"
    }
   ],
   "source": [
    "# Display contents of the DataFrame here.\n",
    "df.head()"
   ]
  },
  {
   "cell_type": "markdown",
   "metadata": {},
   "source": [
    "How many records are in the DataFrame? How many columns does each record have? "
   ]
  },
  {
   "cell_type": "markdown",
   "metadata": {},
   "source": [
    "Filter the contents of the DataFrame to only show records where the name column contains the string \"Durham\"."
   ]
  },
  {
   "cell_type": "code",
   "execution_count": 123,
   "metadata": {},
   "outputs": [
    {
     "name": "stdout",
     "output_type": "stream",
     "text": [
      "Empty DataFrame\n",
      "Columns: [mindate, maxdate, name, datacoverage, id]\n",
      "Index: []\n"
     ]
    }
   ],
   "source": [
    "#df.loc[df.name == 'McDonough County, IL']\n",
    "filtered_df = df[df['name'].str.contains(r'\\bDurham\\b', case=False, na=False)]\n",
    "print(filtered_df)\n",
    "#there is no place containing Durham"
   ]
  },
  {
   "cell_type": "markdown",
   "metadata": {},
   "source": [
    "## Read Multiple JSON Files"
   ]
  },
  {
   "cell_type": "markdown",
   "metadata": {},
   "source": [
    "Define a function called read_all_json_files. Given a string representing a path to a directory, this function should read all of the json files and return a Pandas DataFrame containing all of the objects. In addition to the data from the files, this DataFrame should also contain an additional column called \"source\". The source column should be populated with the name of the file from which this record originated from."
   ]
  },
  {
   "cell_type": "code",
   "execution_count": 127,
   "metadata": {},
   "outputs": [],
   "source": [
    "# implement me\n",
    "def read_all_json_files(JSON_ROOT):\n",
    "    all_data = []  # List to store data from all JSON files\n",
    "    \n",
    "    # Loop through all files in the directory\n",
    "    for filename in os.listdir(JSON_ROOT):\n",
    "        # Check if the file is a JSON file\n",
    "        if filename.endswith('.json'):\n",
    "            file_path = os.path.join(JSON_ROOT, filename)\n",
    "            \n",
    "            # Read the JSON data\n",
    "            with open(file_path, 'r') as file:\n",
    "                data = json.load(file)\n",
    "                data = data['results']\n",
    "                \n",
    "            # Add a 'source' column with the file name\n",
    "            if isinstance(data, list):\n",
    "                for record in data:\n",
    "                    record['source'] = filename  # Add the source file name to each record\n",
    "                all_data.extend(data)  # Add records from the current file to the list\n",
    "            else:\n",
    "                data['source'] = filename  # Add the source file name if it's a single object\n",
    "                all_data.append(data)\n",
    "    \n",
    "    # Convert the list of data into a Pandas DataFrame\n",
    "    df = pd.DataFrame(all_data)\n",
    "    \n",
    "    return df"
   ]
  },
  {
   "cell_type": "markdown",
   "metadata": {},
   "source": [
    "Use the read_all_json_files function above to read the contents of all locations file acquired in the the Data Acquisition Lab.  \n",
    "Hint: It is easier if you put all of those files in a dedicated subdirectory ex: (./data/locations/)"
   ]
  },
  {
   "cell_type": "code",
   "execution_count": 128,
   "metadata": {},
   "outputs": [],
   "source": [
    "df = read_all_json_files('./data/locations')"
   ]
  },
  {
   "cell_type": "markdown",
   "metadata": {},
   "source": [
    "What is the shape of the DataFrame? Does this match the number of columns and records you expected?"
   ]
  },
  {
   "cell_type": "code",
   "execution_count": 132,
   "metadata": {},
   "outputs": [
    {
     "data": {
      "text/plain": [
       "(38862, 6)"
      ]
     },
     "execution_count": 132,
     "metadata": {},
     "output_type": "execute_result"
    }
   ],
   "source": [
    "# Validate the shape of the DataFrame here\n",
    "df.shape"
   ]
  },
  {
   "cell_type": "markdown",
   "metadata": {},
   "source": [
    "Show the first few records of the DataFrame."
   ]
  },
  {
   "cell_type": "code",
   "execution_count": 133,
   "metadata": {},
   "outputs": [
    {
     "data": {
      "text/html": [
       "<div>\n",
       "<style scoped>\n",
       "    .dataframe tbody tr th:only-of-type {\n",
       "        vertical-align: middle;\n",
       "    }\n",
       "\n",
       "    .dataframe tbody tr th {\n",
       "        vertical-align: top;\n",
       "    }\n",
       "\n",
       "    .dataframe thead th {\n",
       "        text-align: right;\n",
       "    }\n",
       "</style>\n",
       "<table border=\"1\" class=\"dataframe\">\n",
       "  <thead>\n",
       "    <tr style=\"text-align: right;\">\n",
       "      <th></th>\n",
       "      <th>mindate</th>\n",
       "      <th>maxdate</th>\n",
       "      <th>name</th>\n",
       "      <th>datacoverage</th>\n",
       "      <th>id</th>\n",
       "      <th>source</th>\n",
       "    </tr>\n",
       "  </thead>\n",
       "  <tbody>\n",
       "    <tr>\n",
       "      <th>0</th>\n",
       "      <td>1994-12-15</td>\n",
       "      <td>2024-12-05</td>\n",
       "      <td>Boston, MA 02118</td>\n",
       "      <td>0.950</td>\n",
       "      <td>ZIP:02118</td>\n",
       "      <td>locations_10.json</td>\n",
       "    </tr>\n",
       "    <tr>\n",
       "      <th>1</th>\n",
       "      <td>1994-12-15</td>\n",
       "      <td>2024-12-05</td>\n",
       "      <td>Roxbury, MA 02119</td>\n",
       "      <td>0.950</td>\n",
       "      <td>ZIP:02119</td>\n",
       "      <td>locations_10.json</td>\n",
       "    </tr>\n",
       "    <tr>\n",
       "      <th>2</th>\n",
       "      <td>1994-12-15</td>\n",
       "      <td>2024-12-05</td>\n",
       "      <td>Roxbury Crossing, MA 02120</td>\n",
       "      <td>0.950</td>\n",
       "      <td>ZIP:02120</td>\n",
       "      <td>locations_10.json</td>\n",
       "    </tr>\n",
       "    <tr>\n",
       "      <th>3</th>\n",
       "      <td>1994-12-15</td>\n",
       "      <td>2024-12-05</td>\n",
       "      <td>Dorchester, MA 02121</td>\n",
       "      <td>0.950</td>\n",
       "      <td>ZIP:02121</td>\n",
       "      <td>locations_10.json</td>\n",
       "    </tr>\n",
       "    <tr>\n",
       "      <th>4</th>\n",
       "      <td>1994-12-15</td>\n",
       "      <td>2024-12-05</td>\n",
       "      <td>Dorchester, MA 02122</td>\n",
       "      <td>0.998</td>\n",
       "      <td>ZIP:02122</td>\n",
       "      <td>locations_10.json</td>\n",
       "    </tr>\n",
       "  </tbody>\n",
       "</table>\n",
       "</div>"
      ],
      "text/plain": [
       "      mindate     maxdate                        name  datacoverage  \\\n",
       "0  1994-12-15  2024-12-05            Boston, MA 02118         0.950   \n",
       "1  1994-12-15  2024-12-05           Roxbury, MA 02119         0.950   \n",
       "2  1994-12-15  2024-12-05  Roxbury Crossing, MA 02120         0.950   \n",
       "3  1994-12-15  2024-12-05        Dorchester, MA 02121         0.950   \n",
       "4  1994-12-15  2024-12-05        Dorchester, MA 02122         0.998   \n",
       "\n",
       "          id             source  \n",
       "0  ZIP:02118  locations_10.json  \n",
       "1  ZIP:02119  locations_10.json  \n",
       "2  ZIP:02120  locations_10.json  \n",
       "3  ZIP:02121  locations_10.json  \n",
       "4  ZIP:02122  locations_10.json  "
      ]
     },
     "execution_count": 133,
     "metadata": {},
     "output_type": "execute_result"
    }
   ],
   "source": [
    "# Show the first few records\n",
    "df.head()"
   ]
  },
  {
   "cell_type": "markdown",
   "metadata": {},
   "source": [
    "Show the last few records of the DataFrame."
   ]
  },
  {
   "cell_type": "code",
   "execution_count": 135,
   "metadata": {},
   "outputs": [
    {
     "data": {
      "text/html": [
       "<div>\n",
       "<style scoped>\n",
       "    .dataframe tbody tr th:only-of-type {\n",
       "        vertical-align: middle;\n",
       "    }\n",
       "\n",
       "    .dataframe tbody tr th {\n",
       "        vertical-align: top;\n",
       "    }\n",
       "\n",
       "    .dataframe thead th {\n",
       "        text-align: right;\n",
       "    }\n",
       "</style>\n",
       "<table border=\"1\" class=\"dataframe\">\n",
       "  <thead>\n",
       "    <tr style=\"text-align: right;\">\n",
       "      <th></th>\n",
       "      <th>mindate</th>\n",
       "      <th>maxdate</th>\n",
       "      <th>name</th>\n",
       "      <th>datacoverage</th>\n",
       "      <th>id</th>\n",
       "      <th>source</th>\n",
       "    </tr>\n",
       "  </thead>\n",
       "  <tbody>\n",
       "    <tr>\n",
       "      <th>38857</th>\n",
       "      <td>1925-07-01</td>\n",
       "      <td>2024-12-05</td>\n",
       "      <td>Fombell, PA 16123</td>\n",
       "      <td>1.00</td>\n",
       "      <td>ZIP:16123</td>\n",
       "      <td>locations_13.json</td>\n",
       "    </tr>\n",
       "    <tr>\n",
       "      <th>38858</th>\n",
       "      <td>1995-01-19</td>\n",
       "      <td>2024-12-05</td>\n",
       "      <td>Fredonia, PA 16124</td>\n",
       "      <td>0.95</td>\n",
       "      <td>ZIP:16124</td>\n",
       "      <td>locations_13.json</td>\n",
       "    </tr>\n",
       "    <tr>\n",
       "      <th>38859</th>\n",
       "      <td>1894-01-01</td>\n",
       "      <td>2024-12-05</td>\n",
       "      <td>Greenville, PA 16125</td>\n",
       "      <td>1.00</td>\n",
       "      <td>ZIP:16125</td>\n",
       "      <td>locations_13.json</td>\n",
       "    </tr>\n",
       "    <tr>\n",
       "      <th>38860</th>\n",
       "      <td>1907-01-01</td>\n",
       "      <td>2024-12-05</td>\n",
       "      <td>Grove City, PA 16127</td>\n",
       "      <td>1.00</td>\n",
       "      <td>ZIP:16127</td>\n",
       "      <td>locations_13.json</td>\n",
       "    </tr>\n",
       "    <tr>\n",
       "      <th>38861</th>\n",
       "      <td>1995-01-19</td>\n",
       "      <td>2024-12-05</td>\n",
       "      <td>Hadley, PA 16130</td>\n",
       "      <td>0.95</td>\n",
       "      <td>ZIP:16130</td>\n",
       "      <td>locations_13.json</td>\n",
       "    </tr>\n",
       "  </tbody>\n",
       "</table>\n",
       "</div>"
      ],
      "text/plain": [
       "          mindate     maxdate                  name  datacoverage         id  \\\n",
       "38857  1925-07-01  2024-12-05     Fombell, PA 16123          1.00  ZIP:16123   \n",
       "38858  1995-01-19  2024-12-05    Fredonia, PA 16124          0.95  ZIP:16124   \n",
       "38859  1894-01-01  2024-12-05  Greenville, PA 16125          1.00  ZIP:16125   \n",
       "38860  1907-01-01  2024-12-05  Grove City, PA 16127          1.00  ZIP:16127   \n",
       "38861  1995-01-19  2024-12-05      Hadley, PA 16130          0.95  ZIP:16130   \n",
       "\n",
       "                  source  \n",
       "38857  locations_13.json  \n",
       "38858  locations_13.json  \n",
       "38859  locations_13.json  \n",
       "38860  locations_13.json  \n",
       "38861  locations_13.json  "
      ]
     },
     "execution_count": 135,
     "metadata": {},
     "output_type": "execute_result"
    }
   ],
   "source": [
    "# Show the last few records\n",
    "df.tail()"
   ]
  },
  {
   "cell_type": "markdown",
   "metadata": {},
   "source": [
    "## Validate Records Are Unique"
   ]
  },
  {
   "cell_type": "markdown",
   "metadata": {},
   "source": [
    "Provide two different ways to determine there are no duplicate records.  \n",
    "Hint: The id field should be unique."
   ]
  },
  {
   "cell_type": "code",
   "execution_count": 141,
   "metadata": {},
   "outputs": [
    {
     "data": {
      "text/plain": [
       "np.int64(0)"
      ]
     },
     "execution_count": 141,
     "metadata": {},
     "output_type": "execute_result"
    }
   ],
   "source": [
    "# one way to determine there are not duplicate records\n",
    "df['id'].duplicated().sum()"
   ]
  },
  {
   "cell_type": "code",
   "execution_count": 142,
   "metadata": {},
   "outputs": [
    {
     "data": {
      "text/plain": [
       "np.int64(0)"
      ]
     },
     "execution_count": 142,
     "metadata": {},
     "output_type": "execute_result"
    }
   ],
   "source": [
    "# another way to determine there are no duplicate records\n",
    "df.duplicated().sum()"
   ]
  },
  {
   "cell_type": "markdown",
   "metadata": {},
   "source": [
    "# Peking In"
   ]
  },
  {
   "cell_type": "markdown",
   "metadata": {},
   "source": [
    "Show the record with id \"CITY:TU000041\". Which file did it come from? "
   ]
  },
  {
   "cell_type": "code",
   "execution_count": 144,
   "metadata": {},
   "outputs": [
    {
     "data": {
      "text/plain": [
       "4001    locations_2.json\n",
       "Name: source, dtype: object"
      ]
     },
     "execution_count": 144,
     "metadata": {},
     "output_type": "execute_result"
    }
   ],
   "source": [
    "# \n",
    "df.loc[df['id']==\"CITY:TU000041\"]['source']"
   ]
  },
  {
   "cell_type": "markdown",
   "metadata": {},
   "source": [
    "Show the record with id \"CLIM:0405\". Which file did it come from? "
   ]
  },
  {
   "cell_type": "code",
   "execution_count": 147,
   "metadata": {},
   "outputs": [
    {
     "data": {
      "text/plain": [
       "3001    locations_3.json\n",
       "Name: source, dtype: object"
      ]
     },
     "execution_count": 147,
     "metadata": {},
     "output_type": "execute_result"
    }
   ],
   "source": [
    "# \n",
    "df.loc[df['id']==\"CLIM:0405\"]['source']"
   ]
  },
  {
   "cell_type": "markdown",
   "metadata": {},
   "source": [
    "How many unique values are there for the source column in the DataFrame?"
   ]
  },
  {
   "cell_type": "code",
   "execution_count": 151,
   "metadata": {},
   "outputs": [
    {
     "data": {
      "text/plain": [
       "39"
      ]
     },
     "execution_count": 151,
     "metadata": {},
     "output_type": "execute_result"
    }
   ],
   "source": [
    "# \n",
    "df['source'].nunique()"
   ]
  },
  {
   "cell_type": "markdown",
   "metadata": {},
   "source": [
    "How many records did the locations_38.json file contain?"
   ]
  },
  {
   "cell_type": "code",
   "execution_count": 157,
   "metadata": {},
   "outputs": [
    {
     "data": {
      "text/plain": [
       "1000"
      ]
     },
     "execution_count": 157,
     "metadata": {},
     "output_type": "execute_result"
    }
   ],
   "source": [
    "# \n",
    "df.loc[df['source']=='locations_38.json'].shape[0]"
   ]
  },
  {
   "cell_type": "markdown",
   "metadata": {},
   "source": [
    "We will work with this DataFrame in a subsequent part of the lab. Instead of repeating all of this work again, let's export the DataFrame to a pickled file."
   ]
  },
  {
   "cell_type": "code",
   "execution_count": 165,
   "metadata": {},
   "outputs": [],
   "source": [
    "# export DataFrame to a pickled file called locations_data_frame.pickle. Save it to the data directory.\n",
    "df.to_pickle('data/locations_data_frame.pickle')"
   ]
  },
  {
   "cell_type": "code",
   "execution_count": null,
   "metadata": {},
   "outputs": [],
   "source": []
  },
  {
   "cell_type": "code",
   "execution_count": null,
   "metadata": {},
   "outputs": [],
   "source": []
  },
  {
   "cell_type": "code",
   "execution_count": null,
   "metadata": {},
   "outputs": [],
   "source": []
  }
 ],
 "metadata": {
  "kernelspec": {
   "display_name": "Python 3 (ipykernel)",
   "language": "python",
   "name": "python3"
  },
  "language_info": {
   "codemirror_mode": {
    "name": "ipython",
    "version": 3
   },
   "file_extension": ".py",
   "mimetype": "text/x-python",
   "name": "python",
   "nbconvert_exporter": "python",
   "pygments_lexer": "ipython3",
   "version": "3.12.5"
  }
 },
 "nbformat": 4,
 "nbformat_minor": 4
}
