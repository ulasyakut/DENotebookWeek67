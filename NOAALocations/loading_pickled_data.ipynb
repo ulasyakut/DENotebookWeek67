{
 "cells": [
  {
   "cell_type": "code",
   "execution_count": 3,
   "metadata": {},
   "outputs": [],
   "source": [
    "# import pandas module\n",
    "# import os module\n",
    "import pandas as pd\n",
    "import os as os\n",
    "import pickle\n"
   ]
  },
  {
   "cell_type": "code",
   "execution_count": 4,
   "metadata": {},
   "outputs": [],
   "source": [
    "# Define a file path (using os module) pointing to the pickled file from Exercise 1\n",
    "# Create a Pandas DataFrame from the pickled file. Use the file path as an argument.\n",
    "path = '/Users/uyakut/Desktop/data_exercises/DENotebookWeek67/NOAALocations/data/locations_data_frame.pickle'\n",
    "with open(path, 'rb') as f:\n",
    "    data = pickle.load(f)\n"
   ]
  },
  {
   "cell_type": "code",
   "execution_count": 7,
   "metadata": {},
   "outputs": [
    {
     "data": {
      "text/html": [
       "<div>\n",
       "<style scoped>\n",
       "    .dataframe tbody tr th:only-of-type {\n",
       "        vertical-align: middle;\n",
       "    }\n",
       "\n",
       "    .dataframe tbody tr th {\n",
       "        vertical-align: top;\n",
       "    }\n",
       "\n",
       "    .dataframe thead th {\n",
       "        text-align: right;\n",
       "    }\n",
       "</style>\n",
       "<table border=\"1\" class=\"dataframe\">\n",
       "  <thead>\n",
       "    <tr style=\"text-align: right;\">\n",
       "      <th></th>\n",
       "      <th>mindate</th>\n",
       "      <th>maxdate</th>\n",
       "      <th>name</th>\n",
       "      <th>datacoverage</th>\n",
       "      <th>id</th>\n",
       "      <th>source</th>\n",
       "    </tr>\n",
       "  </thead>\n",
       "  <tbody>\n",
       "    <tr>\n",
       "      <th>0</th>\n",
       "      <td>1994-12-15</td>\n",
       "      <td>2024-12-05</td>\n",
       "      <td>Boston, MA 02118</td>\n",
       "      <td>0.950</td>\n",
       "      <td>ZIP:02118</td>\n",
       "      <td>locations_10.json</td>\n",
       "    </tr>\n",
       "    <tr>\n",
       "      <th>1</th>\n",
       "      <td>1994-12-15</td>\n",
       "      <td>2024-12-05</td>\n",
       "      <td>Roxbury, MA 02119</td>\n",
       "      <td>0.950</td>\n",
       "      <td>ZIP:02119</td>\n",
       "      <td>locations_10.json</td>\n",
       "    </tr>\n",
       "    <tr>\n",
       "      <th>2</th>\n",
       "      <td>1994-12-15</td>\n",
       "      <td>2024-12-05</td>\n",
       "      <td>Roxbury Crossing, MA 02120</td>\n",
       "      <td>0.950</td>\n",
       "      <td>ZIP:02120</td>\n",
       "      <td>locations_10.json</td>\n",
       "    </tr>\n",
       "    <tr>\n",
       "      <th>3</th>\n",
       "      <td>1994-12-15</td>\n",
       "      <td>2024-12-05</td>\n",
       "      <td>Dorchester, MA 02121</td>\n",
       "      <td>0.950</td>\n",
       "      <td>ZIP:02121</td>\n",
       "      <td>locations_10.json</td>\n",
       "    </tr>\n",
       "    <tr>\n",
       "      <th>4</th>\n",
       "      <td>1994-12-15</td>\n",
       "      <td>2024-12-05</td>\n",
       "      <td>Dorchester, MA 02122</td>\n",
       "      <td>0.998</td>\n",
       "      <td>ZIP:02122</td>\n",
       "      <td>locations_10.json</td>\n",
       "    </tr>\n",
       "  </tbody>\n",
       "</table>\n",
       "</div>"
      ],
      "text/plain": [
       "      mindate     maxdate                        name  datacoverage  \\\n",
       "0  1994-12-15  2024-12-05            Boston, MA 02118         0.950   \n",
       "1  1994-12-15  2024-12-05           Roxbury, MA 02119         0.950   \n",
       "2  1994-12-15  2024-12-05  Roxbury Crossing, MA 02120         0.950   \n",
       "3  1994-12-15  2024-12-05        Dorchester, MA 02121         0.950   \n",
       "4  1994-12-15  2024-12-05        Dorchester, MA 02122         0.998   \n",
       "\n",
       "          id             source  \n",
       "0  ZIP:02118  locations_10.json  \n",
       "1  ZIP:02119  locations_10.json  \n",
       "2  ZIP:02120  locations_10.json  \n",
       "3  ZIP:02121  locations_10.json  \n",
       "4  ZIP:02122  locations_10.json  "
      ]
     },
     "execution_count": 7,
     "metadata": {},
     "output_type": "execute_result"
    }
   ],
   "source": [
    "# Display the DataFrame\n",
    "data.head()"
   ]
  },
  {
   "cell_type": "code",
   "execution_count": null,
   "metadata": {},
   "outputs": [],
   "source": []
  }
 ],
 "metadata": {
  "kernelspec": {
   "display_name": "Python 3 (ipykernel)",
   "language": "python",
   "name": "python3"
  },
  "language_info": {
   "codemirror_mode": {
    "name": "ipython",
    "version": 3
   },
   "file_extension": ".py",
   "mimetype": "text/x-python",
   "name": "python",
   "nbconvert_exporter": "python",
   "pygments_lexer": "ipython3",
   "version": "3.12.5"
  }
 },
 "nbformat": 4,
 "nbformat_minor": 4
}
